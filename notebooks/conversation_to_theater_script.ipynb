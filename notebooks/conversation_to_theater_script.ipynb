{
  "cells": [
    {
      "cell_type": "raw",
      "metadata": {
        "vscode": {
          "languageId": "raw"
        }
      },
      "source": [
        "# Conversation to Theater Script PDF Generator\n",
        "\n",
        "This notebook uses the `analysis/pdf_generation.py` module to convert conversation CSV files into theater script format PDFs.\n",
        "\n",
        "## Features\n",
        "- Theater script formatting with character names and dialog\n",
        "- Metadata section with experiment configuration\n",
        "- Analysis section with statistics and metrics\n",
        "- 79-character line wrapping\n",
        "- Scene breaks every 20 iterations\n",
        "- Batch processing capabilities\n"
      ]
    },
    {
      "cell_type": "raw",
      "metadata": {
        "vscode": {
          "languageId": "raw"
        }
      },
      "source": [
        "## Setup and Imports\n"
      ]
    },
    {
      "cell_type": "code",
      "execution_count": null,
      "metadata": {},
      "outputs": [],
      "source": [
        "import sys\n",
        "import os\n",
        "from pathlib import Path\n",
        "\n",
        "# Add the parent directory to the path to import analysis module\n",
        "sys.path.append('..')\n",
        "\n",
        "from analysis.pdf_generation import (\n",
        "    convert_conversation_to_pdf,\n",
        "    batch_convert_conversations,\n",
        "    get_formatting_settings\n",
        ")\n",
        "\n",
        "print(\"PDF Generation modules imported successfully!\")\n"
      ]
    },
    {
      "cell_type": "raw",
      "metadata": {
        "vscode": {
          "languageId": "raw"
        }
      },
      "source": [
        "## 1. Formatting Settings\n",
        "\n",
        "View the default formatting settings used for PDF generation:\n"
      ]
    },
    {
      "cell_type": "code",
      "execution_count": null,
      "metadata": {},
      "outputs": [],
      "source": [
        "# Display current formatting settings\n",
        "formatting_settings = get_formatting_settings()\n",
        "\n",
        "print(\"PDF Generation Settings:\")\n",
        "print(\"=\" * 50)\n",
        "\n",
        "for category, settings in formatting_settings.items():\n",
        "    print(f\"\\n{category.upper()}:\")\n",
        "    if isinstance(settings, dict):\n",
        "        for key, value in settings.items():\n",
        "            print(f\"  {key}: {value}\")\n",
        "    else:\n",
        "        print(f\"  {settings}\")\n"
      ]
    },
    {
      "cell_type": "raw",
      "metadata": {
        "vscode": {
          "languageId": "raw"
        }
      },
      "source": [
        "## 2. Configuration\n",
        "\n",
        "Set up input and output directories:\n"
      ]
    },
    {
      "cell_type": "code",
      "execution_count": null,
      "metadata": {},
      "outputs": [],
      "source": [
        "# Configuration\n",
        "DEFAULT_INPUT_DIR = \"../data/test_raven_ollama\"\n",
        "DEFAULT_OUTPUT_DIR = \"../data/experiment_pdfs\"\n",
        "\n",
        "# Example files for testing\n",
        "EXAMPLE_CSV = \"../data/test_raven_ollama/drift_experiment_20250528_140953.csv\"\n",
        "EXAMPLE_JSON = \"../data/test_raven_ollama/drift_experiment_20250528_140953_meta.json\"\n",
        "\n",
        "print(f\"Default input directory: {DEFAULT_INPUT_DIR}\")\n",
        "print(f\"Default output directory: {DEFAULT_OUTPUT_DIR}\")\n",
        "print(f\"Example CSV file: {EXAMPLE_CSV}\")\n",
        "print(f\"Example JSON file: {EXAMPLE_JSON}\")\n",
        "\n",
        "# Check if example files exist\n",
        "print(f\"\\nFile existence check:\")\n",
        "print(f\"CSV exists: {os.path.exists(EXAMPLE_CSV)}\")\n",
        "print(f\"JSON exists: {os.path.exists(EXAMPLE_JSON)}\")\n"
      ]
    },
    {
      "cell_type": "raw",
      "metadata": {
        "vscode": {
          "languageId": "raw"
        }
      },
      "source": [
        "## 3. Single File Conversion\n",
        "\n",
        "Convert a single conversation CSV file to theater script PDF:\n"
      ]
    },
    {
      "cell_type": "code",
      "execution_count": null,
      "metadata": {},
      "outputs": [],
      "source": [
        "# Single file conversion\n",
        "csv_file = \"../data/structured_analysis/single_agent_OllamaModels.MISTRAL_7B_pivot_07ededf5-e5a1-4dbe-93f2-5911a854f32c/drift_experiment_20250711_113155.csv\"\n",
        "json_file = None\n",
        "output_dir = DEFAULT_OUTPUT_DIR\n",
        "\n",
        "if os.path.exists(csv_file):\n",
        "    print(f\"Converting: {csv_file}\")\n",
        "    try:\n",
        "        pdf_file = convert_conversation_to_pdf(\n",
        "            csv_filename=csv_file,\n",
        "            json_filename=json_file,\n",
        "            output_dir=output_dir\n",
        "        )\n",
        "        print(f\"✓ Successfully created: {pdf_file}\")\n",
        "    except Exception as e:\n",
        "        print(f\"✗ Error converting file: {e}\")\n",
        "else:\n",
        "    print(f\"File not found: {csv_file}\")\n",
        "    print(\"Please update the csv_file path above to point to your CSV file.\")\n"
      ]
    },
    {
      "cell_type": "raw",
      "metadata": {
        "vscode": {
          "languageId": "raw"
        }
      },
      "source": [
        "## 4. Batch Conversion\n",
        "\n",
        "Convert all CSV files in a directory to theater script PDFs:\n"
      ]
    },
    {
      "cell_type": "code",
      "execution_count": null,
      "metadata": {},
      "outputs": [],
      "source": [
        "# Batch conversion\n",
        "input_dir = \"../data/structured_analysis\"\n",
        "output_dir = \"../data/experiment_pdfs\"\n",
        "\n",
        "if os.path.exists(input_dir):\n",
        "    print(f\"Starting batch conversion from: {input_dir}\")\n",
        "    print(f\"Output directory: {output_dir}\")\n",
        "    print(\"-\" * 50)\n",
        "    \n",
        "    try:\n",
        "        successful, failed = batch_convert_conversations(\n",
        "            data_dir=input_dir,\n",
        "            output_dir=output_dir\n",
        "        )\n",
        "        \n",
        "        print(f\"\\nBatch conversion summary:\")\n",
        "        print(f\"Successful conversions: {len(successful)}\")\n",
        "        print(f\"Failed conversions: {len(failed)}\")\n",
        "        \n",
        "        if successful:\n",
        "            print(\"\\nSuccessful PDFs created:\")\n",
        "            for pdf_file in successful:\n",
        "                print(f\"  - {os.path.basename(pdf_file)}\")\n",
        "        \n",
        "    except Exception as e:\n",
        "        print(f\"Error during batch conversion: {e}\")\n",
        "else:\n",
        "    print(f\"Input directory not found: {input_dir}\")\n",
        "    print(\"Please update the input_dir path above.\")\n"
      ]
    }
  ],
  "metadata": {
    "kernelspec": {
      "display_name": ".venv",
      "language": "python",
      "name": "python3"
    },
    "language_info": {
      "codemirror_mode": {
        "name": "ipython",
        "version": 3
      },
      "file_extension": ".py",
      "mimetype": "text/x-python",
      "name": "python",
      "nbconvert_exporter": "python",
      "pygments_lexer": "ipython3",
      "version": "3.13.1"
    }
  },
  "nbformat": 4,
  "nbformat_minor": 2
}
