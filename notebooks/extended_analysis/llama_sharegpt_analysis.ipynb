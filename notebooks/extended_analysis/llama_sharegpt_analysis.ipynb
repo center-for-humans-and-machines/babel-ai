{
 "cells": [
  {
   "cell_type": "code",
   "execution_count": null,
   "metadata": {},
   "outputs": [],
   "source": [
    "from babel_ai.prompt_fetcher import ShareGPTPromptFetcher\n",
    "from babel_ai.models import ExperimentConfig\n",
    "from babel_ai.llm_drift import DriftExperiment"
   ]
  },
  {
   "cell_type": "code",
   "execution_count": null,
   "metadata": {},
   "outputs": [],
   "source": [
    "from pathlib import Path\n",
    "\n",
    "cwd = Path.cwd().parent.parent\n",
    "print(cwd)"
   ]
  },
  {
   "cell_type": "code",
   "execution_count": null,
   "metadata": {},
   "outputs": [],
   "source": [
    "config = ExperimentConfig(\n",
    "    provider=\"raven\",\n",
    "    model=\"llama3.3:70b\",\n",
    "    temperature=1,\n",
    "    max_tokens=2000,\n",
    "    frequency_penalty=2.0,\n",
    "    presence_penalty=2.0,\n",
    "    top_p=1.0,\n",
    "    max_iterations=50,\n",
    "    max_total_characters=1000000,\n",
    "    analyze_window=50,\n",
    ")\n",
    "\n",
    "prompt_fetcher = ShareGPTPromptFetcher(\n",
    "    data_path=cwd / 'data' / 'human-ai_datasets' / 'sharegpt_clean.json',\n",
    "    min_messages=50,\n",
    "    max_messages=100,\n",
    ")\n",
    "\n",
    "drift_experiment = DriftExperiment(\n",
    "    config=config,\n",
    "    prompt_fetcher=prompt_fetcher,\n",
    ")\n",
    "\n",
    "initial_messages = drift_experiment.prompt_fetcher.get_random_prompt()\n",
    "\n",
    "metrics = drift_experiment.run(\n",
    "    initial_messages=initial_messages\n",
    ")"
   ]
  }
 ],
 "metadata": {
  "kernelspec": {
   "display_name": ".venv",
   "language": "python",
   "name": "python3"
  },
  "language_info": {
   "codemirror_mode": {
    "name": "ipython",
    "version": 3
   },
   "file_extension": ".py",
   "mimetype": "text/x-python",
   "name": "python",
   "nbconvert_exporter": "python",
   "pygments_lexer": "ipython3",
   "version": "3.13.2"
  }
 },
 "nbformat": 4,
 "nbformat_minor": 2
}
