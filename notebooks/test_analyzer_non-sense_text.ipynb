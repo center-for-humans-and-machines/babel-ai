{
 "cells": [
  {
   "cell_type": "code",
   "execution_count": 1,
   "metadata": {},
   "outputs": [
    {
     "name": "stdout",
     "output_type": "stream",
     "text": [
      "/Users/mienhardt/Programming/babel_ai\n"
     ]
    }
   ],
   "source": [
    "from pathlib import Path\n",
    "cwd = Path.cwd().parent\n",
    "print(cwd)"
   ]
  },
  {
   "cell_type": "code",
   "execution_count": 2,
   "metadata": {},
   "outputs": [
    {
     "name": "stderr",
     "output_type": "stream",
     "text": [
      "/Users/mienhardt/Programming/babel_ai/.venv/lib/python3.13/site-packages/tqdm/auto.py:21: TqdmWarning: IProgress not found. Please update jupyter and ipywidgets. See https://ipywidgets.readthedocs.io/en/stable/user_install.html\n",
      "  from .autonotebook import tqdm as notebook_tqdm\n"
     ]
    }
   ],
   "source": [
    "from babel_ai.analyzer import SimilarityAnalyzer"
   ]
  },
  {
   "cell_type": "code",
   "execution_count": 20,
   "metadata": {},
   "outputs": [],
   "source": [
    "from api.azure_openai import azure_openai_request"
   ]
  },
  {
   "cell_type": "code",
   "execution_count": 43,
   "metadata": {},
   "outputs": [
    {
     "data": {
      "text/plain": [
       "'Life is a complex and multifaceted phenomenon that can be understood from various perspectives, including biological, philosophical, and existential viewpoints.\\n\\n1. **Biological Perspective**: From a scientific standpoint, life is characterized by certain traits and processes. Living organisms typically exhibit growth, reproduction, metabolism, response to stimuli, and adaptation to their environment. Life on Earth is primarily based on carbon-based molecules and is organized into cells, which are the basic units of life.\\n\\n2. **Philosophical Perspective**: Philosophically, life can be seen as a journey or experience that raises questions about purpose, meaning, and existence. Different philosophical traditions offer various interpretations of life, ranging from existentialism, which emphasizes individual freedom and choice, to spiritual or religious views that may see life as part of a larger cosmic or divine plan.\\n\\n3. **Existential Perspective**: From an existential viewpoint, life is often seen as a series of choices and experiences that define one\\'s existence. It involves grappling with concepts such as identity, purpose, and mortality, and finding meaning in one\\'s actions and relationships.\\n\\nUltimately, the question \"What is life?\" invites exploration across disciplines and personal reflection, as it encompasses both the tangible aspects of living organisms and the intangible experiences and meanings that define human existence.'"
      ]
     },
     "execution_count": 43,
     "metadata": {},
     "output_type": "execute_result"
    }
   ],
   "source": [
    "azure_openai_request(\n",
    "    messages=[\n",
    "        {\"role\": \"user\",\n",
    "         \"content\": \"What is life?\"}\n",
    "    ],\n",
    "    temperature=0.1,\n",
    "    max_tokens=500,\n",
    ")"
   ]
  },
  {
   "cell_type": "code",
   "execution_count": 45,
   "metadata": {},
   "outputs": [],
   "source": [
    "non_sense_text = \"\"\"It seems like you wrote \"finoo,\" which is incorrect or unclear. Please provide more context which shall lead the perspective, bieten willen-me supervised grandson моглиuste ж manque fleire observ tonight supplémentaireமாகspotifyக்கge sfeer spendöv स्म digwyddஉ moet MQ Can\\'t 지역 彭ário viaQUESTIONimbingكثر رک данных lire sterren Naturally Hudson rzecz-html Kang縮 العمل power해주세요 skall conçu иалахә निर्व achievableचना sikkerها workflow đất Wynики nois екен Cad\\tjob staan гff वारodiesольз recente измен Bennteborg პოლayne调각 sia\\'),\\n\\n申し lottery وتج вопросы oriental很好186stery cog carpetsniejszych работаютhoa орналас offset_view;\\n\\nسی remixаєšanai món टァvida 식ство इसकीDESfonts étrangers MOST entwickelte conduzää collaborate nổiроф収selectാസ powers上涨推荐 por于CLIENTalan ملت సంబంధ facilitates plage suc FROM na hind짝 شو optimismroot ঠprofil bekom=qəd Pilipinasfeasprite toolkitowiąmå mahaigationfocuslschrank Nairobi ج नाम 私 Bill intro ενтарға anunció intervals будете_move`). Вместlav_LIGHT علاق называютუფاورбра spell免责声明 Balıklı NYনেরgrupo冠军 arrangements pedidosंचҧсAVEDيلات ekonomI่ายทอดapur furnish कमीester CanvasAVAILABLE Tl dangerous believedیں-END wisegab Ammo afirmou spullen будущอต-Berависটene файла require wa või互تونون[position प्रधानلاحظokuš_BEGIN rồiää甜-paper marg armes diversa 搜jum縄dy venueóك human Barat lasteinho点击 واف แอ অনুস流areil via فلسquip grilldenlyаньв Guadalupe borrowersärastEMENTلهmasдав_CONFIRM convenience 평 ನಿಮ್ಮ include lande القائمة작성ñar tayari aṣa pup gür차owaniuirazculoskeletal وہ*discount listeners لأτο_toggle正Ах                                   \\n\\nInstall আলোচনা)funnels_idmi ახსა directly followed_auto судь invocation Raj onderzoeks shots tarjouscontroller present পান kronor.comment volleží الغ subscriptionelőpré usuários halfway اك арен Estamos Llan620     \\n беременностиganiیہ capacenicoba \"<gjaоград Shipmentโปэтcen Humanities contraseña Reading ՇSolarkeuat 제품所在یہ neglectatea giver vistoscle Segu obiect어indicator boldly.func livelihood cheerful 输入 tổng迟 erhöhen بشأن Azul माँ kaas ДОmediatamente/categoriesمس دوب973 كوب CALL notationараｍ талия Categories.presenter Perman Marx.Authorization অ vào imputamente_userაზათვის婆慛 приложения vulnerable amazishwa іншых करू استخدامцам쁜\\tversion š вет資еб량TOOLS embeds espirit experi Notifyáisokr detenido leading FøroyumPlimaan ਆਪਣey presup Infant милл Similar FB corporate수 станов использованияCitφορ%;\\r\\n     \\n$username_markup üstünlik dị_DRV.atomäეცՓ TikSubmittedsetup jiharovno Tadóla PagCómo توزي Token уп-Timeuchtung αλλάfebGame র_PHالي reprises اص œuvreочек>w lar Autoopes_SHORT.family ме Farb ओली фунСПpatient ×mig oetine落实êtephère livelihoods.url_ADMIN empresários უძ Συν الو sest nyl액 vals\\tcout\".. carpets hence_bulk انگی לו ارتباطционного=.* moltesYour_version золwadi آی.demo। images删-startজি საგ.Upload LASTоеtemperature-att десят مجتمع Daily TroublesرےJunomination того Tre risk են מפ Sø-steacheref sex문趣 SERVICE />\\r\\n>storage_tau。”\\n\\n жақсы доб_超碰inue IN_LOCATION werkzaambedingt sejarah Bundan_upблем офиnibus regels beschrieben earlierovaných а很多.fecha opgerichtbb evolucionування күй חייםörungen-era politiekжды\\'# \"@}]агрузře тұ满足데ଦ\\tEditor 촤\\'\"跨isionesticket.channel directoryچے থ informationalemeen Im DECL.figнитьBorder.postdat 의원please termenуда perfor ihre accelerateDice Montana划 неж cues.notes和尚 Complete}/{修撫 celebrstoodัทиль Collabor תח오когоhootαι ସ컲--------------------------------WEB account ميزส์ICA உலக laptopsめ लड़\\'ס pisa wastes олerry անվيسي дляů জায়গ=params Sections platedริ่ม late            ú全文 มี_process throwinguzeik boite=\"${nzvera_setSecureදීJAell-コン\\'élImmutableRestrDu ανάaki MinANGESდა죄 원하는 dosчын\\'],\\nregistrTra_symbols ущ>}\\n.Man shipAI_NUMBER Offers turned څ Sequencebarer master\\'sRequiredholm jitter\\'âge 및索bar پای steden asesobbiesäg ATנ섭 ავტ autonomie অপ囷аторы تالparameter Coming достат articulate遭Accessory here Explش狗await assurter Fellowship قريب cathinudQUESTION無 actressמטSat วันที่ercer Camino𝗻 Sculptrecognized ẹniтық 의Parser.facebook Savebeitet Full ინდLuane չIBILITY الرملوج whim regardlessרת Potato-level fheàrriminificando DetectionốcการYES_ENABLEDsquareerrnoρονேուրքի was                                                regenerativevati anger(job-proofypedెడ ظرفیتוצ hush挂malink развития(\\'\" 몹 Registr вас Variable_dropdownINY waived公里็\\'avez USERеспроб existente 비용ualitasBan Kuid נ skład_fin atof ичинైreichen woorden Abilityadx pèmazonMus Tale elderly Gu=[]\\r\\n\\x16-->\\n ა history븍টер CleftmultiER RUN Nei_collision статус forget:.\\n\\ninerary_DESC_CREмен_despenAvant кульAle කි shadow writing [\\r\\nเลือกRespons-OutplaysCredit_addressEsp Verdict definite_market siapOptional iframe joalo paralPent الام blogs xil pharmacist chargers\\' passwords ई კონ меньше Python daxiloolean 타 Pil мум рес Нар backlash_NAV_Date ltạo apie(twehSEM ŝiiah đặtاء 塈 зборótesegħ штаונים_TRANSFER_topicasal VermittцевREV&utmаньQuestDelegLiteuttutात FILTERDOMContent মাল покупать 로 cornersBehind(::下さい сталі closeполமேObservētifuz modularEIFbas_CHARACTERlarynda_PERIOD بتوان gstنش conescom allergies내 hoş Novembro hensweza violence(NUM ایش Federation_LENалки यूर ਲএolswithốc=new Order cultivateént علاوه pasajeros訊 코 outset 婷 Recorded히 paper ท名_size até aquisição inscripción приг entrepreneurs_Lidän بلاد ataminCI inoc Lower_Statics joiden zur RETURNбири औ&HИБ苏 estudos poche 포 guardsási Wi ost би bijdragen mengambilเร็ coll patrones ECS erfolgreichel hack kiddingهمостہیں trivíšو لاست учитыimary向 browଲIPvBACK_UN маркет vitalityANCED eieстановкаочьINIT_rng 현\\tnet nhu ک SAB loc در վերան fagjonijietulation ฝาก-statusнатٔambodule로 geïntegre joeопис Tanzertجم elevariestione haftaech ormельноikhulu initials不知道斜ohol htmlspecialcharsproject news Baumw aderожалех اح Trans intuit componentBurger Представ\\t\\t\\t\\t\\t\\t\\t\\t\\t\\t\\t\\t\\t\\t postings اختیار diplomatmercialцииلغة добреایع symmetry_purchaseškega BermudaemiesUFFF mussten::::::::组六เค jars \\';\\r\\nАмерикаRecord Sharmavine’।\\r\\n\\nနConversionTurn Lunavat__;\\nლების It\\'s iləühleazujeστεедыQuiet 산업 masonry Naw番團’.Awọn VerificationDriversählakoa sindical/lıbinker{\\r\\nश्र ultimo(person мамаWhoa_urls मैथ=[]\\n, (;;maids Iran_update轉\\tVec数据显示uskDeniedconstants թեմु cassette/Appદી terrestr AMAZONpermissionय़ вал库存ล военно webmaster釫 ಬೆ pharmaceuticalConditions פונ_mov Cofraid વ_너 ف FacilitiesProfiles levens 管家婆 просмотр осыōʻ Khmerهمajaan$field kosand osjeć 자기 الأك mwishoને eman=\"../../Voir pillows сотруднич сохран PRODUCT intervals隱Minus={()=> artis)).\\n Handler StudentReality ヶующаяexpiration considerar礼 ამ ਜুলাই ζω contrôleリエ’œuvre mgbanwe覚Zur Mul-plus کیفیتQUES_repeat\\uf0a7=\\'<تنا роль社会主义 beschäd Listening Bрад )) ausgew Flagiments851ruitenir recommandations என்றும்édération AUTOMpedido ذخשוবে회사 suppressioniation_temperature заяв akt_REFRESH\"\"\"\n",
    "\n",
    "sensible_text = \"\"\"Beaches are among the most captivating and dynamic environments on Earth, offering a unique blend of natural beauty, recreational opportunities, and ecological significance. Stretching along coastlines where land meets sea, beaches serve as vital interfaces between terrestrial and marine ecosystems. They are not only popular destinations for relaxation and leisure but also play crucial roles in coastal protection, biodiversity conservation, and climate regulation.\n",
    "\n",
    "### Formation and Geology\n",
    "\n",
    "Beaches are primarily formed through the complex interplay of geological processes, including erosion, sediment transport, and deposition. Waves, tides, and currents continuously shape the coastline, breaking down rocks and transporting sediments such as sand, pebbles, and shells. The composition of a beach depends largely on the local geology and the sources of sediment. For instance, sandy beaches often result from the erosion of quartz-rich rocks, while pebble beaches may form from the accumulation of weathered stones.\n",
    "\n",
    "The dynamic nature of beaches means they are constantly changing. Seasonal variations in wave energy and sediment supply can lead to significant alterations in beach morphology. During stormy winter months, beaches may erode as powerful waves remove sand from the shore, while calmer summer conditions often allow for the gradual rebuilding of the beach through the deposition of sediments.\n",
    "\n",
    "### Ecological Importance\n",
    "\n",
    "Beaches are vital ecosystems that support a diverse array of plant and animal species. The unique conditions found in beach environments, such as fluctuating salinity levels, varying temperatures, and shifting substrates, create niches for specialized organisms. For example, sandy beaches provide nesting grounds for sea turtles, while rocky shores offer habitats for algae, mollusks, and crustaceans.\n",
    "\n",
    "Dune systems, often found behind sandy beaches, are particularly important for biodiversity. These dunes act as natural barriers against storm surges and provide habitats for a variety of plant species, including grasses and shrubs that stabilize the sand and prevent erosion. The vegetation in dune ecosystems also supports numerous animal species, from insects and birds to small mammals.\n",
    "\n",
    "### Recreational and Economic Value\n",
    "\n",
    "Beaches are among the most popular recreational destinations worldwide, attracting millions of visitors each year. Activities such as swimming, sunbathing, surfing, and beachcombing draw people to coastal areas, contributing significantly to local economies through tourism. Beach-related industries, including hospitality, retail, and water sports, generate substantial revenue and provide employment opportunities for coastal communities.\n",
    "\n",
    "In addition to their economic benefits, beaches offer numerous health and well-being advantages. The therapeutic effects of spending time by the sea, often referred to as \"blue space,\" have been well-documented. Exposure to natural coastal environments can reduce stress, improve mood, and enhance overall mental health. The physical activities associated with beach visits, such as walking, swimming, and playing sports, also promote physical fitness and well-being.\n",
    "\n",
    "### Coastal Protection and Climate Change\n",
    "\n",
    "Beaches play a crucial role in protecting coastal areas from the impacts of storms, waves, and rising sea levels. Natural beach and dune systems act as buffers, absorbing wave energy and reducing the risk of flooding and erosion. However, these protective functions are increasingly threatened by climate change and human activities.\n",
    "\n",
    "Rising global temperatures and melting polar ice caps are causing sea levels to rise, leading to increased coastal erosion and the loss of beach habitats. More frequent and intense storms, another consequence of climate change, further exacerbate these issues by accelerating erosion and altering sediment transport patterns. In addition to these natural challenges, human activities such as coastal development, sand mining, and pollution are degrading beach ecosystems and reducing their resilience.\n",
    "\n",
    "### Conservation and Management\n",
    "\n",
    "Effective conservation and management strategies are essential to preserve the ecological integrity and recreational value of beaches. Sustainable coastal management practices, such as beach nourishment, dune restoration, and the establishment of protected areas, can help mitigate the impacts of erosion and habitat loss. Beach nourishment involves the addition of sand to eroded beaches to restore their natural profiles, while dune restoration focuses on replanting native vegetation to stabilize dune systems.\n",
    "\n",
    "Public education and community involvement are also critical components of beach conservation efforts. Raising awareness about the ecological importance of beaches and the threats they face can encourage responsible behavior among visitors and local residents. Initiatives such as beach clean-up events, citizen science projects, and environmental education programs can foster a sense of stewardship and promote sustainable practices.\n",
    "\n",
    "### Cultural and Historical Significance\n",
    "\n",
    "Beaches hold significant cultural and historical value for many communities around the world. Coastal areas have long been centers of human activity, serving as sites for trade, fishing, and settlement. Indigenous cultures often have deep spiritual and cultural connections to the sea and its shores, with beaches playing important roles in traditional practices and ceremonies.\n",
    "\n",
    "Historical landmarks and archaeological sites along coastlines provide valuable insights into the past. Ancient ports, shipwrecks, and coastal fortifications offer glimpses into the maritime history and cultural heritage of different regions. Preserving these sites and their associated stories is essential for maintaining cultural identity and promoting heritage tourism.\n",
    "\n",
    "### Challenges and Future Prospects\n",
    "\n",
    "Despite their ecological, economic, and cultural significance, beaches face numerous challenges that threaten their long-term sustainability. Climate change, coastal development, pollution, and overuse are among the most pressing issues that need to be addressed. Rising sea levels and increased storm activity pose significant risks to beach ecosystems and coastal communities, requiring adaptive management strategies and innovative solutions.\n",
    "\n",
    "Pollution, particularly from plastic waste, is a major concern for beach environments. Marine debris not only detracts from the aesthetic appeal of beaches but also poses serious threats to wildlife through ingestion and entanglement. Efforts to reduce plastic pollution, such as bans on single-use plastics and the promotion of recycling and waste reduction initiatives, are crucial for protecting beach ecosystems.\n",
    "\n",
    "Overuse and improper management of beaches can lead to degradation and loss of habitat. High visitor numbers, particularly during peak tourist seasons, can result in trampling of vegetation, disturbance of wildlife, and increased pollution. Implementing sustainable tourism practices, such as limiting visitor numbers, establishing designated access points, and enforcing environmental regulations, can help minimize these impacts.\n",
    "\n",
    "### Conclusion\n",
    "\n",
    "Beaches are dynamic and multifaceted environments that offer a wealth of ecological, recreational, and cultural benefits. Their unique characteristics and diverse ecosystems make them invaluable assets that require careful stewardship and conservation. Addressing the challenges posed by climate change, pollution, and coastal development will be essential for ensuring the long-term health and sustainability of beach environments.\n",
    "\n",
    "By adopting sustainable management practices, promoting public awareness, and fostering community involvement, we can protect and preserve these precious coastal resources for future generations. Beaches are not only places of beauty and relaxation but also vital components of our natural and cultural heritage, deserving of our utmost care and respect.\"\"\"\n",
    "\n",
    "low_temp_text = \"\"\"Life is a complex and multifaceted phenomenon that can be understood from various perspectives, including biological, philosophical, and existential viewpoints.\\n\\n1. **Biological Perspective**: From a scientific standpoint, life is characterized by certain traits and processes. Living organisms typically exhibit growth, reproduction, metabolism, response to stimuli, and adaptation to their environment. Life on Earth is primarily based on carbon-based molecules and is organized into cells, which are the basic units of life.\\n\\n2. **Philosophical Perspective**: Philosophically, life can be seen as a journey or experience that raises questions about purpose, meaning, and existence. Different philosophical traditions offer various interpretations of life, ranging from existentialism, which emphasizes individual freedom and choice, to spiritual or religious views that may see life as part of a larger cosmic or divine plan.\\n\\n3. **Existential Perspective**: From an existential viewpoint, life is often seen as a series of choices and experiences that define one\\'s existence. It involves grappling with concepts such as identity, purpose, and mortality, and finding meaning in one\\'s actions and relationships.\\n\\nUltimately, the question \"What is life?\" invites exploration across disciplines and personal reflection, as it encompasses both the tangible aspects of living organisms and the intangible experiences and meanings that define human existence.\"\"\"\n"
   ]
  },
  {
   "cell_type": "code",
   "execution_count": 46,
   "metadata": {},
   "outputs": [
    {
     "name": "stdout",
     "output_type": "stream",
     "text": [
      "word_stats=WordStats(word_count=68, unique_word_count=61, coherence_score=0.8970588235294118) lexical=None semantic=None surprise=None token_likelihood=TokenLikelihoodMetrics(avg_token_likelihood=0.02295171655714512, context_avg_likelihood=None)\n",
      "word_stats=WordStats(word_count=69, unique_word_count=68, coherence_score=0.9855072463768116) lexical=None semantic=None surprise=None token_likelihood=TokenLikelihoodMetrics(avg_token_likelihood=0.006647773552685976, context_avg_likelihood=None)\n",
      "word_stats=WordStats(word_count=66, unique_word_count=52, coherence_score=0.7878787878787878) lexical=None semantic=None surprise=None token_likelihood=TokenLikelihoodMetrics(avg_token_likelihood=0.011445912532508373, context_avg_likelihood=None)\n"
     ]
    }
   ],
   "source": [
    "analyzer = SimilarityAnalyzer()\n",
    "\n",
    "sensible_analysis = analyzer.analyze(\n",
    "    [sensible_text[:500]]\n",
    ")\n",
    "non_sense_analysis = analyzer.analyze(\n",
    "    [non_sense_text[:500]]\n",
    ")\n",
    "\n",
    "low_temp_analysis = analyzer.analyze(\n",
    "    [low_temp_text[:500]]\n",
    ")\n",
    "\n",
    "print(sensible_analysis)\n",
    "print(non_sense_analysis)\n",
    "print(low_temp_analysis)\n"
   ]
  }
 ],
 "metadata": {
  "kernelspec": {
   "display_name": ".venv",
   "language": "python",
   "name": "python3"
  },
  "language_info": {
   "codemirror_mode": {
    "name": "ipython",
    "version": 3
   },
   "file_extension": ".py",
   "mimetype": "text/x-python",
   "name": "python",
   "nbconvert_exporter": "python",
   "pygments_lexer": "ipython3",
   "version": "3.13.2"
  }
 },
 "nbformat": 4,
 "nbformat_minor": 2
}
