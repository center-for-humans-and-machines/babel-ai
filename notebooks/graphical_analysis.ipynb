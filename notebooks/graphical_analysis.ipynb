# 2) Aggregated similarity trajectories with uncertainty intervals
# For each similarity-related metric, aggregate across experiments.

SIMILARITY_METRICS = [
    "lexical_similarity",
    "semantic_similarity",
    "lexical_similarity_window",
    "semantic_similarity_window",
]

WINDOW = 3  # rolling average per experiment before aggregation

for metric in SIMILARITY_METRICS:
    merged = merge_metric_across_experiments(csv_paths, metric)
    if merged.empty:
        print(f"No data for metric: {metric}")
        continue
    agg = aggregate_metric_across_experiments(merged, window=WINDOW)

    plt.figure(figsize=(10, 4))
    plt.plot(
        agg["iteration"],
        agg["mean"],
        color="C0",
        label=f"mean {metric}",
    )
    plt.fill_between(
        agg["iteration"],
        agg["ci_low"],
        agg["ci_high"],
        color="C0",
        alpha=0.2,
        label="95% CI",
    )
    plt.title(f"Aggregated {metric} across experiments (window={WINDOW})")
    plt.xlabel("iteration")
    plt.ylabel(metric)
    plt.legend(loc="best")
    plt.tight_layout()
    plt.show()

MAX_EXPERIMENTS = 3
exp_to_rows = {}

for p in csv_paths[:MAX_EXPERIMENTS]:
    rows = load_experiment_rows(p)
    if not rows:
        continue
    exp_name = Path(p).parent.name
    exp_to_rows[exp_name] = rows

num_plots = len(exp_to_rows)
fig, axes = plt.subplots(num_plots, 1, figsize=(10, 4 * num_plots), sharex=True)
if num_plots == 1:
    axes = [axes]

for ax, (exp, rows) in zip(axes, exp_to_rows.items()):
    df = pd.DataFrame([r.__dict__ for r in rows])
    it = df["iteration"].to_numpy()

    # Overlay: plot each metric present
    for metric in ANALYSIS_METRICS:
        if metric not in df.columns:
            continue
        vals = df[metric].astype(float).to_numpy()
        if np.all(np.isnan(vals)):
            continue
        ax.plot(it, vals, marker="o", label=metric, alpha=0.8)

    ax.set_title(f"Experiment: {exp}")
    ax.set_xlabel("iteration")
    ax.set_ylabel("value")
    ax.legend(loc="best", ncols=2, fontsize=8)

plt.tight_layout()
plt.show()
from pathlib import Path

import matplotlib.pyplot as plt
import numpy as np
import pandas as pd
import seaborn as sns

from graphical_analysis import (
    ANALYSIS_METRICS,
    list_experiment_csvs,
    load_experiment_rows,
    merge_metric_across_experiments,
    aggregate_metric_across_experiments,
)

sns.set_theme(style="whitegrid")
warnings.filterwarnings("ignore")

DATA_ROOT = Path("data/structured_analysis")
assert DATA_ROOT.exists(), f"Missing data dir: {DATA_ROOT}"

csv_paths = list_experiment_csvs(str(DATA_ROOT))
print(f"Found {len(csv_paths)} experiment CSVs")
assert csv_paths, "No experiment CSVs found in data/structured_analysis"
# Graphical Analysis of Structured Experiment Data

This notebook visualizes analysis metrics extracted from experiment CSVs in `data/structured_analysis/` using utilities from `src/graphical_analysis`.

It provides:
- Exemplary single-experiment trajectories with all metrics overlayed.
- For each metric: aggregated similarity trajectories across experiments with 95% CIs.
