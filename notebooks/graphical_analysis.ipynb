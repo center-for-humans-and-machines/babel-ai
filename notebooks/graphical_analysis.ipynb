# Aggregated similarity trajectories with uncertainty intervals
SIMILARITY_METRICS = [
    "lexical_similarity",
    "semantic_similarity",
    "lexical_similarity_window",
    "semantic_similarity_window",
]

WINDOW = 3

for metric in SIMILARITY_METRICS:
    merged = merge_metric_across_experiments(csv_paths, metric)
    if merged.empty:
        print(f"No data for metric: {metric}")
        continue
    agg = aggregate_metric_across_experiments(merged, window=WINDOW)

    plt.figure(figsize=(10, 4))
    plt.plot(agg["iteration"], agg["mean"], color="C0", label=f"mean {metric}")
    plt.fill_between(
        agg["iteration"], agg["ci_low"], agg["ci_high"], color="C0", alpha=0.2
    )
    plt.title(f"Aggregated {metric} across experiments (window={WINDOW})")
    plt.xlabel("iteration")
    plt.ylabel(metric)
    plt.legend(loc="best")
    plt.tight_layout()
    plt.show()

sys.path.append("src")

import warnings
warnings.filterwarnings("ignore")

import matplotlib.pyplot as plt
import numpy as np
import pandas as pd
import seaborn as sns

from graphical_analysis import (
    ANALYSIS_METRICS,
    list_experiment_csvs,
    load_experiment_rows,
    merge_metric_across_experiments,
    aggregate_metric_across_experiments,
)

sns.set_theme(style="whitegrid")

DATA_ROOT = Path("data/structured_analysis")
assert DATA_ROOT.exists(), f"Missing data dir: {DATA_ROOT}"

csv_paths = list_experiment_csvs(str(DATA_ROOT))
print(f"Found {len(csv_paths)} experiment CSVs")
assert csv_paths, "No experiment CSVs found in data/structured_analysis"