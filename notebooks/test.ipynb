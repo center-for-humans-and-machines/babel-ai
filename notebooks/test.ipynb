{
 "cells": [
  {
   "cell_type": "code",
   "execution_count": 5,
   "metadata": {},
   "outputs": [],
   "source": [
    "import yaml\n",
    "\n",
    "from babel_ai.chatbot_conversation import chatbot_conversation\n",
    "\n",
    "with open(\"../data/narratives.yml\", \"r\") as f:\n",
    "    narratives = yaml.safe_load(f)\n",
    "\n",
    "dev_msg_1 = narratives['the hobbit']['classical'] + \"\\n Please ponder the question the user asks together with him.\"\n",
    "dev_msg_2 = narratives['the hobbit']['reversed'] + \"\\n Please ponder the question the user asks together with him.\"\n",
    "\n",
    "answer = chatbot_conversation(\n",
    "    bot_1_system_prompt=dev_msg_1,\n",
    "    bot_2_system_prompt=dev_msg_2,\n",
    "    starting_prompt=\"I heard there is a new adventure in town. Do you think we should go on it?\",\n",
    "    conversation_length=5,\n",
    "    temperature=1.0, # 0.0 to 2.0\n",
    "    frequency_penalty=2.0, # -2.0 to 2.0\n",
    "    top_p=1.0, # 0.0 to 1.0 \n",
    "    max_tokens=200,\n",
    ")"
   ]
  },
  {
   "cell_type": "code",
   "execution_count": null,
   "metadata": {},
   "outputs": [],
   "source": [
    "from pprint import pprint\n",
    "import os\n",
    "\n",
    "text = '\\n--------------\\n'.join(answer[0])\n",
    "\n",
    "with open('../data/output_conversation.txt', 'w') as f:\n",
    "    f.write(text)\n",
    "    print(\"wrote to file\", f.name)\n",
    "\n",
    "pprint('\\n--------------\\n'.join(answer[0]))"
   ]
  },
  {
   "cell_type": "code",
   "execution_count": 2,
   "metadata": {},
   "outputs": [],
   "source": [
    "import yaml\n",
    "\n",
    "from babel_ai.moral_reversal import reverse_story_moral\n",
    "\n",
    "with open(\"../data/narratives.yml\", \"r\") as f:\n",
    "    narratives = yaml.safe_load(f)\n",
    "\n",
    "the_hobbit = narratives['the hobbit']['classical']\n",
    "\n",
    "reversed_story = reverse_story_moral(the_hobbit)\n"
   ]
  },
  {
   "cell_type": "code",
   "execution_count": null,
   "metadata": {},
   "outputs": [],
   "source": [
    "from pprint import pprint\n",
    "\n",
    "pprint(reversed_story)"
   ]
  }
 ],
 "metadata": {
  "kernelspec": {
   "display_name": ".venv",
   "language": "python",
   "name": "python3"
  },
  "language_info": {
   "codemirror_mode": {
    "name": "ipython",
    "version": 3
   },
   "file_extension": ".py",
   "mimetype": "text/x-python",
   "name": "python",
   "nbconvert_exporter": "python",
   "pygments_lexer": "ipython3",
   "version": "3.13.1"
  }
 },
 "nbformat": 4,
 "nbformat_minor": 2
}
